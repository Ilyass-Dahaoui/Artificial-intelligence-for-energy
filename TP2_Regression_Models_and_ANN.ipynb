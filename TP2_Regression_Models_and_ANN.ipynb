{
  "cells": [
    {
      "cell_type": "markdown",
      "metadata": {
        "id": "view-in-github",
        "colab_type": "text"
      },
      "source": [
        "<a href=\"https://colab.research.google.com/github/Ilyass-Dahaoui/Artificial-intelligence-for-energy/blob/main/TP2_Regression_Models_and_ANN.ipynb\" target=\"_parent\"><img src=\"https://colab.research.google.com/assets/colab-badge.svg\" alt=\"Open In Colab\"/></a>"
      ]
    },
    {
      "cell_type": "code",
      "execution_count": 6,
      "metadata": {
        "id": "j2owOqRr-8NP"
      },
      "outputs": [],
      "source": [
        "import pandas as pd\n",
        "from matplotlib import pyplot as plt\n",
        "from sklearn import model_selection\n",
        "import numpy as np\n",
        "from sklearn.preprocessing import MinMaxScaler\n",
        "from sklearn.linear_model import LinearRegression\n",
        "from sklearn.metrics import r2_score\n",
        "from sklearn.preprocessing import PolynomialFeatures\n",
        "from sklearn.svm import SVR\n",
        "from sklearn.metrics import mean_squared_error\n",
        "import keras\n",
        "from keras.models import Sequential\n",
        "from keras.layers import Activation, Dense\n",
        "from tensorflow.keras.optimizers import Adam\n",
        "from sklearn.metrics import explained_variance_score,mean_absolute_error,r2_score\n",
        "from time import time\n",
        "from sklearn.linear_model import LinearRegression, Ridge, Lasso\n",
        "from sklearn.neighbors import KNeighborsRegressor\n",
        "from sklearn.ensemble import GradientBoostingRegressor\n",
        "from sklearn.ensemble import ExtraTreesRegressor, RandomForestRegressor\n",
        "from sklearn.tree import DecisionTreeRegressor"
      ]
    },
    {
      "cell_type": "code",
      "execution_count": 7,
      "metadata": {
        "colab": {
          "base_uri": "https://localhost:8080/",
          "height": 206
        },
        "id": "yZb4ncbwwxhV",
        "outputId": "1588775f-347b-4493-bd0d-67c8e72d2ff4"
      },
      "outputs": [
        {
          "output_type": "execute_result",
          "data": {
            "text/plain": [
              "   Hour          PAC         Tm   Tamb       TOA       GHI\n",
              "0    10  3802.507576  42.347879  14.50  6181.305  4278.672\n",
              "1    11  3059.995455  55.044545  15.98  7261.285  5195.536\n",
              "2    12  5104.446970  67.297576  17.46  7637.228  5525.204\n",
              "3    13  5095.312121  77.016667  18.24  7283.514  5236.036\n",
              "4    14  4968.204545  80.223030  18.45  6224.230  4346.761"
            ],
            "text/html": [
              "\n",
              "  <div id=\"df-92a46791-0978-45c2-892f-2ef3d6159dfe\" class=\"colab-df-container\">\n",
              "    <div>\n",
              "<style scoped>\n",
              "    .dataframe tbody tr th:only-of-type {\n",
              "        vertical-align: middle;\n",
              "    }\n",
              "\n",
              "    .dataframe tbody tr th {\n",
              "        vertical-align: top;\n",
              "    }\n",
              "\n",
              "    .dataframe thead th {\n",
              "        text-align: right;\n",
              "    }\n",
              "</style>\n",
              "<table border=\"1\" class=\"dataframe\">\n",
              "  <thead>\n",
              "    <tr style=\"text-align: right;\">\n",
              "      <th></th>\n",
              "      <th>Hour</th>\n",
              "      <th>PAC</th>\n",
              "      <th>Tm</th>\n",
              "      <th>Tamb</th>\n",
              "      <th>TOA</th>\n",
              "      <th>GHI</th>\n",
              "    </tr>\n",
              "  </thead>\n",
              "  <tbody>\n",
              "    <tr>\n",
              "      <th>0</th>\n",
              "      <td>10</td>\n",
              "      <td>3802.507576</td>\n",
              "      <td>42.347879</td>\n",
              "      <td>14.50</td>\n",
              "      <td>6181.305</td>\n",
              "      <td>4278.672</td>\n",
              "    </tr>\n",
              "    <tr>\n",
              "      <th>1</th>\n",
              "      <td>11</td>\n",
              "      <td>3059.995455</td>\n",
              "      <td>55.044545</td>\n",
              "      <td>15.98</td>\n",
              "      <td>7261.285</td>\n",
              "      <td>5195.536</td>\n",
              "    </tr>\n",
              "    <tr>\n",
              "      <th>2</th>\n",
              "      <td>12</td>\n",
              "      <td>5104.446970</td>\n",
              "      <td>67.297576</td>\n",
              "      <td>17.46</td>\n",
              "      <td>7637.228</td>\n",
              "      <td>5525.204</td>\n",
              "    </tr>\n",
              "    <tr>\n",
              "      <th>3</th>\n",
              "      <td>13</td>\n",
              "      <td>5095.312121</td>\n",
              "      <td>77.016667</td>\n",
              "      <td>18.24</td>\n",
              "      <td>7283.514</td>\n",
              "      <td>5236.036</td>\n",
              "    </tr>\n",
              "    <tr>\n",
              "      <th>4</th>\n",
              "      <td>14</td>\n",
              "      <td>4968.204545</td>\n",
              "      <td>80.223030</td>\n",
              "      <td>18.45</td>\n",
              "      <td>6224.230</td>\n",
              "      <td>4346.761</td>\n",
              "    </tr>\n",
              "  </tbody>\n",
              "</table>\n",
              "</div>\n",
              "    <div class=\"colab-df-buttons\">\n",
              "\n",
              "  <div class=\"colab-df-container\">\n",
              "    <button class=\"colab-df-convert\" onclick=\"convertToInteractive('df-92a46791-0978-45c2-892f-2ef3d6159dfe')\"\n",
              "            title=\"Convert this dataframe to an interactive table.\"\n",
              "            style=\"display:none;\">\n",
              "\n",
              "  <svg xmlns=\"http://www.w3.org/2000/svg\" height=\"24px\" viewBox=\"0 -960 960 960\">\n",
              "    <path d=\"M120-120v-720h720v720H120Zm60-500h600v-160H180v160Zm220 220h160v-160H400v160Zm0 220h160v-160H400v160ZM180-400h160v-160H180v160Zm440 0h160v-160H620v160ZM180-180h160v-160H180v160Zm440 0h160v-160H620v160Z\"/>\n",
              "  </svg>\n",
              "    </button>\n",
              "\n",
              "  <style>\n",
              "    .colab-df-container {\n",
              "      display:flex;\n",
              "      gap: 12px;\n",
              "    }\n",
              "\n",
              "    .colab-df-convert {\n",
              "      background-color: #E8F0FE;\n",
              "      border: none;\n",
              "      border-radius: 50%;\n",
              "      cursor: pointer;\n",
              "      display: none;\n",
              "      fill: #1967D2;\n",
              "      height: 32px;\n",
              "      padding: 0 0 0 0;\n",
              "      width: 32px;\n",
              "    }\n",
              "\n",
              "    .colab-df-convert:hover {\n",
              "      background-color: #E2EBFA;\n",
              "      box-shadow: 0px 1px 2px rgba(60, 64, 67, 0.3), 0px 1px 3px 1px rgba(60, 64, 67, 0.15);\n",
              "      fill: #174EA6;\n",
              "    }\n",
              "\n",
              "    .colab-df-buttons div {\n",
              "      margin-bottom: 4px;\n",
              "    }\n",
              "\n",
              "    [theme=dark] .colab-df-convert {\n",
              "      background-color: #3B4455;\n",
              "      fill: #D2E3FC;\n",
              "    }\n",
              "\n",
              "    [theme=dark] .colab-df-convert:hover {\n",
              "      background-color: #434B5C;\n",
              "      box-shadow: 0px 1px 3px 1px rgba(0, 0, 0, 0.15);\n",
              "      filter: drop-shadow(0px 1px 2px rgba(0, 0, 0, 0.3));\n",
              "      fill: #FFFFFF;\n",
              "    }\n",
              "  </style>\n",
              "\n",
              "    <script>\n",
              "      const buttonEl =\n",
              "        document.querySelector('#df-92a46791-0978-45c2-892f-2ef3d6159dfe button.colab-df-convert');\n",
              "      buttonEl.style.display =\n",
              "        google.colab.kernel.accessAllowed ? 'block' : 'none';\n",
              "\n",
              "      async function convertToInteractive(key) {\n",
              "        const element = document.querySelector('#df-92a46791-0978-45c2-892f-2ef3d6159dfe');\n",
              "        const dataTable =\n",
              "          await google.colab.kernel.invokeFunction('convertToInteractive',\n",
              "                                                    [key], {});\n",
              "        if (!dataTable) return;\n",
              "\n",
              "        const docLinkHtml = 'Like what you see? Visit the ' +\n",
              "          '<a target=\"_blank\" href=https://colab.research.google.com/notebooks/data_table.ipynb>data table notebook</a>'\n",
              "          + ' to learn more about interactive tables.';\n",
              "        element.innerHTML = '';\n",
              "        dataTable['output_type'] = 'display_data';\n",
              "        await google.colab.output.renderOutput(dataTable, element);\n",
              "        const docLink = document.createElement('div');\n",
              "        docLink.innerHTML = docLinkHtml;\n",
              "        element.appendChild(docLink);\n",
              "      }\n",
              "    </script>\n",
              "  </div>\n",
              "\n",
              "\n",
              "<div id=\"df-e39d77f2-dd0b-4079-ae96-f892edea9678\">\n",
              "  <button class=\"colab-df-quickchart\" onclick=\"quickchart('df-e39d77f2-dd0b-4079-ae96-f892edea9678')\"\n",
              "            title=\"Suggest charts\"\n",
              "            style=\"display:none;\">\n",
              "\n",
              "<svg xmlns=\"http://www.w3.org/2000/svg\" height=\"24px\"viewBox=\"0 0 24 24\"\n",
              "     width=\"24px\">\n",
              "    <g>\n",
              "        <path d=\"M19 3H5c-1.1 0-2 .9-2 2v14c0 1.1.9 2 2 2h14c1.1 0 2-.9 2-2V5c0-1.1-.9-2-2-2zM9 17H7v-7h2v7zm4 0h-2V7h2v10zm4 0h-2v-4h2v4z\"/>\n",
              "    </g>\n",
              "</svg>\n",
              "  </button>\n",
              "\n",
              "<style>\n",
              "  .colab-df-quickchart {\n",
              "      --bg-color: #E8F0FE;\n",
              "      --fill-color: #1967D2;\n",
              "      --hover-bg-color: #E2EBFA;\n",
              "      --hover-fill-color: #174EA6;\n",
              "      --disabled-fill-color: #AAA;\n",
              "      --disabled-bg-color: #DDD;\n",
              "  }\n",
              "\n",
              "  [theme=dark] .colab-df-quickchart {\n",
              "      --bg-color: #3B4455;\n",
              "      --fill-color: #D2E3FC;\n",
              "      --hover-bg-color: #434B5C;\n",
              "      --hover-fill-color: #FFFFFF;\n",
              "      --disabled-bg-color: #3B4455;\n",
              "      --disabled-fill-color: #666;\n",
              "  }\n",
              "\n",
              "  .colab-df-quickchart {\n",
              "    background-color: var(--bg-color);\n",
              "    border: none;\n",
              "    border-radius: 50%;\n",
              "    cursor: pointer;\n",
              "    display: none;\n",
              "    fill: var(--fill-color);\n",
              "    height: 32px;\n",
              "    padding: 0;\n",
              "    width: 32px;\n",
              "  }\n",
              "\n",
              "  .colab-df-quickchart:hover {\n",
              "    background-color: var(--hover-bg-color);\n",
              "    box-shadow: 0 1px 2px rgba(60, 64, 67, 0.3), 0 1px 3px 1px rgba(60, 64, 67, 0.15);\n",
              "    fill: var(--button-hover-fill-color);\n",
              "  }\n",
              "\n",
              "  .colab-df-quickchart-complete:disabled,\n",
              "  .colab-df-quickchart-complete:disabled:hover {\n",
              "    background-color: var(--disabled-bg-color);\n",
              "    fill: var(--disabled-fill-color);\n",
              "    box-shadow: none;\n",
              "  }\n",
              "\n",
              "  .colab-df-spinner {\n",
              "    border: 2px solid var(--fill-color);\n",
              "    border-color: transparent;\n",
              "    border-bottom-color: var(--fill-color);\n",
              "    animation:\n",
              "      spin 1s steps(1) infinite;\n",
              "  }\n",
              "\n",
              "  @keyframes spin {\n",
              "    0% {\n",
              "      border-color: transparent;\n",
              "      border-bottom-color: var(--fill-color);\n",
              "      border-left-color: var(--fill-color);\n",
              "    }\n",
              "    20% {\n",
              "      border-color: transparent;\n",
              "      border-left-color: var(--fill-color);\n",
              "      border-top-color: var(--fill-color);\n",
              "    }\n",
              "    30% {\n",
              "      border-color: transparent;\n",
              "      border-left-color: var(--fill-color);\n",
              "      border-top-color: var(--fill-color);\n",
              "      border-right-color: var(--fill-color);\n",
              "    }\n",
              "    40% {\n",
              "      border-color: transparent;\n",
              "      border-right-color: var(--fill-color);\n",
              "      border-top-color: var(--fill-color);\n",
              "    }\n",
              "    60% {\n",
              "      border-color: transparent;\n",
              "      border-right-color: var(--fill-color);\n",
              "    }\n",
              "    80% {\n",
              "      border-color: transparent;\n",
              "      border-right-color: var(--fill-color);\n",
              "      border-bottom-color: var(--fill-color);\n",
              "    }\n",
              "    90% {\n",
              "      border-color: transparent;\n",
              "      border-bottom-color: var(--fill-color);\n",
              "    }\n",
              "  }\n",
              "</style>\n",
              "\n",
              "  <script>\n",
              "    async function quickchart(key) {\n",
              "      const quickchartButtonEl =\n",
              "        document.querySelector('#' + key + ' button');\n",
              "      quickchartButtonEl.disabled = true;  // To prevent multiple clicks.\n",
              "      quickchartButtonEl.classList.add('colab-df-spinner');\n",
              "      try {\n",
              "        const charts = await google.colab.kernel.invokeFunction(\n",
              "            'suggestCharts', [key], {});\n",
              "      } catch (error) {\n",
              "        console.error('Error during call to suggestCharts:', error);\n",
              "      }\n",
              "      quickchartButtonEl.classList.remove('colab-df-spinner');\n",
              "      quickchartButtonEl.classList.add('colab-df-quickchart-complete');\n",
              "    }\n",
              "    (() => {\n",
              "      let quickchartButtonEl =\n",
              "        document.querySelector('#df-e39d77f2-dd0b-4079-ae96-f892edea9678 button');\n",
              "      quickchartButtonEl.style.display =\n",
              "        google.colab.kernel.accessAllowed ? 'block' : 'none';\n",
              "    })();\n",
              "  </script>\n",
              "</div>\n",
              "\n",
              "    </div>\n",
              "  </div>\n"
            ]
          },
          "metadata": {},
          "execution_count": 7
        }
      ],
      "source": [
        "data=pd.read_csv(\"/content/dataTP.txt\",delimiter='\\t')\n",
        "data.head()"
      ]
    },
    {
      "cell_type": "code",
      "execution_count": 8,
      "metadata": {
        "colab": {
          "base_uri": "https://localhost:8080/"
        },
        "id": "Tjk5Lhl8xV70",
        "outputId": "0dd85950-70bf-4ef7-f51f-08b9a34020be"
      },
      "outputs": [
        {
          "output_type": "execute_result",
          "data": {
            "text/plain": [
              "(9394, 6)"
            ]
          },
          "metadata": {},
          "execution_count": 8
        }
      ],
      "source": [
        "data.shape"
      ]
    },
    {
      "cell_type": "code",
      "execution_count": 9,
      "metadata": {
        "colab": {
          "base_uri": "https://localhost:8080/",
          "height": 300
        },
        "id": "Lw6d-1APxyZF",
        "outputId": "6110e173-debf-45e8-95d6-678df45a93f2"
      },
      "outputs": [
        {
          "output_type": "execute_result",
          "data": {
            "text/plain": [
              "              Hour          PAC           Tm         Tamb           TOA  \\\n",
              "count  9394.000000  9394.000000  9394.000000  9394.000000   9394.000000   \n",
              "mean     11.844049  2728.996212    56.293230    19.577275   6264.484603   \n",
              "std       3.974937  2115.746883    25.588611     4.828761   4035.607486   \n",
              "min       4.000000     0.000000     0.000000     7.160000      0.000000   \n",
              "25%       8.000000   442.413345    44.344811    15.940000   2622.576000   \n",
              "50%      12.000000  2791.191526    62.983697    19.270000   6712.258000   \n",
              "75%      15.000000  4861.013259    77.606250    23.140000   9706.918750   \n",
              "max      20.000000  6124.527273    87.066667    37.800000  12939.077000   \n",
              "\n",
              "                GHI  \n",
              "count   9394.000000  \n",
              "mean    3773.160933  \n",
              "std     3006.480785  \n",
              "min        0.000000  \n",
              "25%      969.443750  \n",
              "50%     3354.455000  \n",
              "75%     6209.692000  \n",
              "max    10476.982000  "
            ],
            "text/html": [
              "\n",
              "  <div id=\"df-5c94a01e-c956-4387-9db5-72db39c8d35d\" class=\"colab-df-container\">\n",
              "    <div>\n",
              "<style scoped>\n",
              "    .dataframe tbody tr th:only-of-type {\n",
              "        vertical-align: middle;\n",
              "    }\n",
              "\n",
              "    .dataframe tbody tr th {\n",
              "        vertical-align: top;\n",
              "    }\n",
              "\n",
              "    .dataframe thead th {\n",
              "        text-align: right;\n",
              "    }\n",
              "</style>\n",
              "<table border=\"1\" class=\"dataframe\">\n",
              "  <thead>\n",
              "    <tr style=\"text-align: right;\">\n",
              "      <th></th>\n",
              "      <th>Hour</th>\n",
              "      <th>PAC</th>\n",
              "      <th>Tm</th>\n",
              "      <th>Tamb</th>\n",
              "      <th>TOA</th>\n",
              "      <th>GHI</th>\n",
              "    </tr>\n",
              "  </thead>\n",
              "  <tbody>\n",
              "    <tr>\n",
              "      <th>count</th>\n",
              "      <td>9394.000000</td>\n",
              "      <td>9394.000000</td>\n",
              "      <td>9394.000000</td>\n",
              "      <td>9394.000000</td>\n",
              "      <td>9394.000000</td>\n",
              "      <td>9394.000000</td>\n",
              "    </tr>\n",
              "    <tr>\n",
              "      <th>mean</th>\n",
              "      <td>11.844049</td>\n",
              "      <td>2728.996212</td>\n",
              "      <td>56.293230</td>\n",
              "      <td>19.577275</td>\n",
              "      <td>6264.484603</td>\n",
              "      <td>3773.160933</td>\n",
              "    </tr>\n",
              "    <tr>\n",
              "      <th>std</th>\n",
              "      <td>3.974937</td>\n",
              "      <td>2115.746883</td>\n",
              "      <td>25.588611</td>\n",
              "      <td>4.828761</td>\n",
              "      <td>4035.607486</td>\n",
              "      <td>3006.480785</td>\n",
              "    </tr>\n",
              "    <tr>\n",
              "      <th>min</th>\n",
              "      <td>4.000000</td>\n",
              "      <td>0.000000</td>\n",
              "      <td>0.000000</td>\n",
              "      <td>7.160000</td>\n",
              "      <td>0.000000</td>\n",
              "      <td>0.000000</td>\n",
              "    </tr>\n",
              "    <tr>\n",
              "      <th>25%</th>\n",
              "      <td>8.000000</td>\n",
              "      <td>442.413345</td>\n",
              "      <td>44.344811</td>\n",
              "      <td>15.940000</td>\n",
              "      <td>2622.576000</td>\n",
              "      <td>969.443750</td>\n",
              "    </tr>\n",
              "    <tr>\n",
              "      <th>50%</th>\n",
              "      <td>12.000000</td>\n",
              "      <td>2791.191526</td>\n",
              "      <td>62.983697</td>\n",
              "      <td>19.270000</td>\n",
              "      <td>6712.258000</td>\n",
              "      <td>3354.455000</td>\n",
              "    </tr>\n",
              "    <tr>\n",
              "      <th>75%</th>\n",
              "      <td>15.000000</td>\n",
              "      <td>4861.013259</td>\n",
              "      <td>77.606250</td>\n",
              "      <td>23.140000</td>\n",
              "      <td>9706.918750</td>\n",
              "      <td>6209.692000</td>\n",
              "    </tr>\n",
              "    <tr>\n",
              "      <th>max</th>\n",
              "      <td>20.000000</td>\n",
              "      <td>6124.527273</td>\n",
              "      <td>87.066667</td>\n",
              "      <td>37.800000</td>\n",
              "      <td>12939.077000</td>\n",
              "      <td>10476.982000</td>\n",
              "    </tr>\n",
              "  </tbody>\n",
              "</table>\n",
              "</div>\n",
              "    <div class=\"colab-df-buttons\">\n",
              "\n",
              "  <div class=\"colab-df-container\">\n",
              "    <button class=\"colab-df-convert\" onclick=\"convertToInteractive('df-5c94a01e-c956-4387-9db5-72db39c8d35d')\"\n",
              "            title=\"Convert this dataframe to an interactive table.\"\n",
              "            style=\"display:none;\">\n",
              "\n",
              "  <svg xmlns=\"http://www.w3.org/2000/svg\" height=\"24px\" viewBox=\"0 -960 960 960\">\n",
              "    <path d=\"M120-120v-720h720v720H120Zm60-500h600v-160H180v160Zm220 220h160v-160H400v160Zm0 220h160v-160H400v160ZM180-400h160v-160H180v160Zm440 0h160v-160H620v160ZM180-180h160v-160H180v160Zm440 0h160v-160H620v160Z\"/>\n",
              "  </svg>\n",
              "    </button>\n",
              "\n",
              "  <style>\n",
              "    .colab-df-container {\n",
              "      display:flex;\n",
              "      gap: 12px;\n",
              "    }\n",
              "\n",
              "    .colab-df-convert {\n",
              "      background-color: #E8F0FE;\n",
              "      border: none;\n",
              "      border-radius: 50%;\n",
              "      cursor: pointer;\n",
              "      display: none;\n",
              "      fill: #1967D2;\n",
              "      height: 32px;\n",
              "      padding: 0 0 0 0;\n",
              "      width: 32px;\n",
              "    }\n",
              "\n",
              "    .colab-df-convert:hover {\n",
              "      background-color: #E2EBFA;\n",
              "      box-shadow: 0px 1px 2px rgba(60, 64, 67, 0.3), 0px 1px 3px 1px rgba(60, 64, 67, 0.15);\n",
              "      fill: #174EA6;\n",
              "    }\n",
              "\n",
              "    .colab-df-buttons div {\n",
              "      margin-bottom: 4px;\n",
              "    }\n",
              "\n",
              "    [theme=dark] .colab-df-convert {\n",
              "      background-color: #3B4455;\n",
              "      fill: #D2E3FC;\n",
              "    }\n",
              "\n",
              "    [theme=dark] .colab-df-convert:hover {\n",
              "      background-color: #434B5C;\n",
              "      box-shadow: 0px 1px 3px 1px rgba(0, 0, 0, 0.15);\n",
              "      filter: drop-shadow(0px 1px 2px rgba(0, 0, 0, 0.3));\n",
              "      fill: #FFFFFF;\n",
              "    }\n",
              "  </style>\n",
              "\n",
              "    <script>\n",
              "      const buttonEl =\n",
              "        document.querySelector('#df-5c94a01e-c956-4387-9db5-72db39c8d35d button.colab-df-convert');\n",
              "      buttonEl.style.display =\n",
              "        google.colab.kernel.accessAllowed ? 'block' : 'none';\n",
              "\n",
              "      async function convertToInteractive(key) {\n",
              "        const element = document.querySelector('#df-5c94a01e-c956-4387-9db5-72db39c8d35d');\n",
              "        const dataTable =\n",
              "          await google.colab.kernel.invokeFunction('convertToInteractive',\n",
              "                                                    [key], {});\n",
              "        if (!dataTable) return;\n",
              "\n",
              "        const docLinkHtml = 'Like what you see? Visit the ' +\n",
              "          '<a target=\"_blank\" href=https://colab.research.google.com/notebooks/data_table.ipynb>data table notebook</a>'\n",
              "          + ' to learn more about interactive tables.';\n",
              "        element.innerHTML = '';\n",
              "        dataTable['output_type'] = 'display_data';\n",
              "        await google.colab.output.renderOutput(dataTable, element);\n",
              "        const docLink = document.createElement('div');\n",
              "        docLink.innerHTML = docLinkHtml;\n",
              "        element.appendChild(docLink);\n",
              "      }\n",
              "    </script>\n",
              "  </div>\n",
              "\n",
              "\n",
              "<div id=\"df-7da44faf-4c9f-4e6f-af77-23f018abae63\">\n",
              "  <button class=\"colab-df-quickchart\" onclick=\"quickchart('df-7da44faf-4c9f-4e6f-af77-23f018abae63')\"\n",
              "            title=\"Suggest charts\"\n",
              "            style=\"display:none;\">\n",
              "\n",
              "<svg xmlns=\"http://www.w3.org/2000/svg\" height=\"24px\"viewBox=\"0 0 24 24\"\n",
              "     width=\"24px\">\n",
              "    <g>\n",
              "        <path d=\"M19 3H5c-1.1 0-2 .9-2 2v14c0 1.1.9 2 2 2h14c1.1 0 2-.9 2-2V5c0-1.1-.9-2-2-2zM9 17H7v-7h2v7zm4 0h-2V7h2v10zm4 0h-2v-4h2v4z\"/>\n",
              "    </g>\n",
              "</svg>\n",
              "  </button>\n",
              "\n",
              "<style>\n",
              "  .colab-df-quickchart {\n",
              "      --bg-color: #E8F0FE;\n",
              "      --fill-color: #1967D2;\n",
              "      --hover-bg-color: #E2EBFA;\n",
              "      --hover-fill-color: #174EA6;\n",
              "      --disabled-fill-color: #AAA;\n",
              "      --disabled-bg-color: #DDD;\n",
              "  }\n",
              "\n",
              "  [theme=dark] .colab-df-quickchart {\n",
              "      --bg-color: #3B4455;\n",
              "      --fill-color: #D2E3FC;\n",
              "      --hover-bg-color: #434B5C;\n",
              "      --hover-fill-color: #FFFFFF;\n",
              "      --disabled-bg-color: #3B4455;\n",
              "      --disabled-fill-color: #666;\n",
              "  }\n",
              "\n",
              "  .colab-df-quickchart {\n",
              "    background-color: var(--bg-color);\n",
              "    border: none;\n",
              "    border-radius: 50%;\n",
              "    cursor: pointer;\n",
              "    display: none;\n",
              "    fill: var(--fill-color);\n",
              "    height: 32px;\n",
              "    padding: 0;\n",
              "    width: 32px;\n",
              "  }\n",
              "\n",
              "  .colab-df-quickchart:hover {\n",
              "    background-color: var(--hover-bg-color);\n",
              "    box-shadow: 0 1px 2px rgba(60, 64, 67, 0.3), 0 1px 3px 1px rgba(60, 64, 67, 0.15);\n",
              "    fill: var(--button-hover-fill-color);\n",
              "  }\n",
              "\n",
              "  .colab-df-quickchart-complete:disabled,\n",
              "  .colab-df-quickchart-complete:disabled:hover {\n",
              "    background-color: var(--disabled-bg-color);\n",
              "    fill: var(--disabled-fill-color);\n",
              "    box-shadow: none;\n",
              "  }\n",
              "\n",
              "  .colab-df-spinner {\n",
              "    border: 2px solid var(--fill-color);\n",
              "    border-color: transparent;\n",
              "    border-bottom-color: var(--fill-color);\n",
              "    animation:\n",
              "      spin 1s steps(1) infinite;\n",
              "  }\n",
              "\n",
              "  @keyframes spin {\n",
              "    0% {\n",
              "      border-color: transparent;\n",
              "      border-bottom-color: var(--fill-color);\n",
              "      border-left-color: var(--fill-color);\n",
              "    }\n",
              "    20% {\n",
              "      border-color: transparent;\n",
              "      border-left-color: var(--fill-color);\n",
              "      border-top-color: var(--fill-color);\n",
              "    }\n",
              "    30% {\n",
              "      border-color: transparent;\n",
              "      border-left-color: var(--fill-color);\n",
              "      border-top-color: var(--fill-color);\n",
              "      border-right-color: var(--fill-color);\n",
              "    }\n",
              "    40% {\n",
              "      border-color: transparent;\n",
              "      border-right-color: var(--fill-color);\n",
              "      border-top-color: var(--fill-color);\n",
              "    }\n",
              "    60% {\n",
              "      border-color: transparent;\n",
              "      border-right-color: var(--fill-color);\n",
              "    }\n",
              "    80% {\n",
              "      border-color: transparent;\n",
              "      border-right-color: var(--fill-color);\n",
              "      border-bottom-color: var(--fill-color);\n",
              "    }\n",
              "    90% {\n",
              "      border-color: transparent;\n",
              "      border-bottom-color: var(--fill-color);\n",
              "    }\n",
              "  }\n",
              "</style>\n",
              "\n",
              "  <script>\n",
              "    async function quickchart(key) {\n",
              "      const quickchartButtonEl =\n",
              "        document.querySelector('#' + key + ' button');\n",
              "      quickchartButtonEl.disabled = true;  // To prevent multiple clicks.\n",
              "      quickchartButtonEl.classList.add('colab-df-spinner');\n",
              "      try {\n",
              "        const charts = await google.colab.kernel.invokeFunction(\n",
              "            'suggestCharts', [key], {});\n",
              "      } catch (error) {\n",
              "        console.error('Error during call to suggestCharts:', error);\n",
              "      }\n",
              "      quickchartButtonEl.classList.remove('colab-df-spinner');\n",
              "      quickchartButtonEl.classList.add('colab-df-quickchart-complete');\n",
              "    }\n",
              "    (() => {\n",
              "      let quickchartButtonEl =\n",
              "        document.querySelector('#df-7da44faf-4c9f-4e6f-af77-23f018abae63 button');\n",
              "      quickchartButtonEl.style.display =\n",
              "        google.colab.kernel.accessAllowed ? 'block' : 'none';\n",
              "    })();\n",
              "  </script>\n",
              "</div>\n",
              "\n",
              "    </div>\n",
              "  </div>\n"
            ]
          },
          "metadata": {},
          "execution_count": 9
        }
      ],
      "source": [
        "data.describe()"
      ]
    },
    {
      "cell_type": "markdown",
      "metadata": {
        "id": "nBkawnl8zqZo"
      },
      "source": [
        "Heure (Hour) :\n",
        "\n",
        "La plupart des observations semblent être réparties entre 8 et 15 heures.\n",
        "La moyenne est proche de 12 heures, ce qui est cohérent avec cette concentration.\n",
        "Puissance AC (PAC) :\n",
        "\n",
        "La puissance AC moyenne semble être d'environ 2729, avec une grande variabilité (écart-type élevé).\n",
        "La puissance maximale est de 6124, indiquant des valeurs relativement élevées.\n",
        "Tm :\n",
        "\n",
        "La température moyenne semble être d'environ 56, avec une variabilité considérable.\n",
        "La plage des températures varie de 0 à 87, avec une médiane à 62.98.\n",
        "Température ambiante (Tamb) :\n",
        "\n",
        "La température ambiante moyenne est d'environ 19.58, avec une faible variabilité.\n",
        "La température ambiante minimale est de 7.16, indiquant un écart important.\n",
        "TOA (Top of Atmosphere) :\n",
        "\n",
        "La moyenne de la radiation solaire TOA est d'environ 6264, avec une grande variabilité.\n",
        "Les valeurs vont de 0 à 12939, montrant une large gamme de radiations solaires.\n",
        "GHI (Global Horizontal Irradiance) :\n",
        "\n",
        "La moyenne de l'irradiance horizontale globale est d'environ 3773, avec une variabilité considérable.\n",
        "La valeur maximale est de 10476, indiquant des niveaux élevés d'irradiance.\n",
        "En résumé, les données semblent être assez variables, avec des gammes étendues pour plusieurs variables. L'heure semble suivre une distribution normale autour de midi, tandis que d'autres variables présentent une variabilité significative avec des valeurs extrêmes possibles. Ces observations peuvent être utiles pour comprendre la nature et la portée des données, ainsi que pour identifier des tendances ou des points saillants.\n",
        "\n",
        "\n",
        "\n",
        "\n",
        "\n"
      ]
    },
    {
      "cell_type": "code",
      "execution_count": 10,
      "metadata": {
        "colab": {
          "base_uri": "https://localhost:8080/",
          "height": 133
        },
        "id": "RTskgMzRzrpz",
        "outputId": "e0f569f5-ef96-4416-848b-6d798f05cadb"
      },
      "outputs": [
        {
          "output_type": "display_data",
          "data": {
            "text/plain": [
              "<Figure size 640x480 with 36 Axes>"
            ],
            "image/png": "[encoded data removed]"
          },
          "metadata": {}
        },
        {
          "output_type": "display_data",
          "data": {
            "text/plain": [
              "<Figure size 600x400 with 0 Axes>"
            ]
          },
          "metadata": {}
        }
      ],
      "source": [
        "data.plot(kind='box', subplots=True, layout=(6,6), sharex=False, sharey=False)\n",
        "plt.figure(figsize=(6,4))\n",
        "plt.show()"
      ]
    },
    {
      "cell_type": "code",
      "execution_count": 11,
      "metadata": {
        "colab": {
          "base_uri": "https://localhost:8080/",
          "height": 452
        },
        "id": "W14zskjZ0Tqx",
        "outputId": "c378c571-73ff-44d6-d803-749e215bbdc1"
      },
      "outputs": [
        {
          "output_type": "display_data",
          "data": {
            "text/plain": [
              "<Figure size 640x480 with 6 Axes>"
            ],
            "image/png": "[encoded data removed]"
          },
          "metadata": {}
        }
      ],
      "source": [
        "data.hist()\n",
        "plt.show()"
      ]
    },
    {
      "cell_type": "markdown",
      "metadata": {
        "id": "KaC3JnDv0kGU"
      },
      "source": [
        "interpretation: on remarque que les données ne suivent pas une distribution normale avec l'existence de quelque valeurs abérrantes"
      ]
    },
    {
      "cell_type": "markdown",
      "metadata": {
        "id": "qk7fbnWAcAGC"
      },
      "source": [
        "Donc il faut normaliser nos données"
      ]
    },
    {
      "cell_type": "code",
      "execution_count": 12,
      "metadata": {
        "id": "SXiFMbHR0pFC"
      },
      "outputs": [],
      "source": [
        "y=data.PAC\n",
        "x=data.drop('PAC',axis=1)"
      ]
    },
    {
      "cell_type": "code",
      "execution_count": 37,
      "metadata": {
        "id": "E8qIPA4z1Rii"
      },
      "outputs": [],
      "source": [
        "x_train,x_test,y_train,y_test = model_selection.train_test_split(x,y,test_size=2348,random_state=100)"
      ]
    },
    {
      "cell_type": "code",
      "execution_count": 15,
      "metadata": {
        "colab": {
          "base_uri": "https://localhost:8080/"
        },
        "id": "RGJFn2Hf1yTo",
        "outputId": "f1aea9c2-e82a-4f2d-8f26-3989becf9e69"
      },
      "outputs": [
        {
          "output_type": "stream",
          "name": "stdout",
          "text": [
            "Hour      11.884048\n",
            "Tm        56.435012\n",
            "Tamb      19.552282\n",
            "TOA     6283.139553\n",
            "GHI     3789.532906\n",
            "dtype: float64\n"
          ]
        }
      ],
      "source": [
        "#centrage-réduction des variables\n",
        "scaler = MinMaxScaler()\n",
        "XTrainStd = scaler.fit_transform(x_train)\n",
        "#comparaison des moyennes, avant ...\n",
        "print(np.mean(x_train,axis=0))"
      ]
    },
    {
      "cell_type": "code",
      "source": [
        "XTestStd=scaler.fit_transform(x_test)"
      ],
      "metadata": {
        "id": "f2Q-BRzm5gRi"
      },
      "execution_count": 31,
      "outputs": []
    },
    {
      "cell_type": "code",
      "execution_count": 16,
      "metadata": {
        "colab": {
          "base_uri": "https://localhost:8080/"
        },
        "id": "nSLHp9EA2N8e",
        "outputId": "67791a4c-a7bd-491b-ce67-c316d715f33e"
      },
      "outputs": [
        {
          "output_type": "stream",
          "name": "stdout",
          "text": [
            "[0.49275298 0.64818161 0.40444785 0.48559411 0.36170081]\n"
          ]
        }
      ],
      "source": [
        "print(np.mean(XTrainStd,axis=0))"
      ]
    },
    {
      "cell_type": "markdown",
      "metadata": {
        "id": "HMDc4lQScSIb"
      },
      "source": [
        "on voit bien que après normalisation on a eu une distribution centré en 0"
      ]
    },
    {
      "cell_type": "markdown",
      "metadata": {
        "id": "B5oi1sTD4OAJ"
      },
      "source": [
        "# REGRESSION POLYNOMIALE"
      ]
    },
    {
      "cell_type": "code",
      "execution_count": 17,
      "metadata": {
        "id": "Op9Ue2g-4YRg"
      },
      "outputs": [],
      "source": [
        "#entrainement du modèle\n",
        "polynomial_features= PolynomialFeatures(degree=3)\n",
        "X_train_poly = polynomial_features.fit_transform(XTrainStd)\n",
        "model = LinearRegression()"
      ]
    },
    {
      "cell_type": "code",
      "execution_count": 19,
      "metadata": {
        "colab": {
          "base_uri": "https://localhost:8080/",
          "height": 74
        },
        "id": "1Yl8Kn7c5jU4",
        "outputId": "6871175c-64e8-46dd-a595-dab3d52ae4c1"
      },
      "outputs": [
        {
          "output_type": "execute_result",
          "data": {
            "text/plain": [
              "LinearRegression()"
            ],
            "text/html": [
              "<style>#sk-container-id-1 {color: black;background-color: white;}#sk-container-id-1 pre{padding: 0;}#sk-container-id-1 div.sk-toggleable {background-color: white;}#sk-container-id-1 label.sk-toggleable__label {cursor: pointer;display: block;width: 100%;margin-bottom: 0;padding: 0.3em;box-sizing: border-box;text-align: center;}#sk-container-id-1 label.sk-toggleable__label-arrow:before {content: \"▸\";float: left;margin-right: 0.25em;color: #696969;}#sk-container-id-1 label.sk-toggleable__label-arrow:hover:before {color: black;}#sk-container-id-1 div.sk-estimator:hover label.sk-toggleable__label-arrow:before {color: black;}#sk-container-id-1 div.sk-toggleable__content {max-height: 0;max-width: 0;overflow: hidden;text-align: left;background-color: #f0f8ff;}#sk-container-id-1 div.sk-toggleable__content pre {margin: 0.2em;color: black;border-radius: 0.25em;background-color: #f0f8ff;}#sk-container-id-1 input.sk-toggleable__control:checked~div.sk-toggleable__content {max-height: 200px;max-width: 100%;overflow: auto;}#sk-container-id-1 input.sk-toggleable__control:checked~label.sk-toggleable__label-arrow:before {content: \"▾\";}#sk-container-id-1 div.sk-estimator input.sk-toggleable__control:checked~label.sk-toggleable__label {background-color: #d4ebff;}#sk-container-id-1 div.sk-label input.sk-toggleable__control:checked~label.sk-toggleable__label {background-color: #d4ebff;}#sk-container-id-1 input.sk-hidden--visually {border: 0;clip: rect(1px 1px 1px 1px);clip: rect(1px, 1px, 1px, 1px);height: 1px;margin: -1px;overflow: hidden;padding: 0;position: absolute;width: 1px;}#sk-container-id-1 div.sk-estimator {font-family: monospace;background-color: #f0f8ff;border: 1px dotted black;border-radius: 0.25em;box-sizing: border-box;margin-bottom: 0.5em;}#sk-container-id-1 div.sk-estimator:hover {background-color: #d4ebff;}#sk-container-id-1 div.sk-parallel-item::after {content: \"\";width: 100%;border-bottom: 1px solid gray;flex-grow: 1;}#sk-container-id-1 div.sk-label:hover label.sk-toggleable__label {background-color: #d4ebff;}#sk-container-id-1 div.sk-serial::before {content: \"\";position: absolute;border-left: 1px solid gray;box-sizing: border-box;top: 0;bottom: 0;left: 50%;z-index: 0;}#sk-container-id-1 div.sk-serial {display: flex;flex-direction: column;align-items: center;background-color: white;padding-right: 0.2em;padding-left: 0.2em;position: relative;}#sk-container-id-1 div.sk-item {position: relative;z-index: 1;}#sk-container-id-1 div.sk-parallel {display: flex;align-items: stretch;justify-content: center;background-color: white;position: relative;}#sk-container-id-1 div.sk-item::before, #sk-container-id-1 div.sk-parallel-item::before {content: \"\";position: absolute;border-left: 1px solid gray;box-sizing: border-box;top: 0;bottom: 0;left: 50%;z-index: -1;}#sk-container-id-1 div.sk-parallel-item {display: flex;flex-direction: column;z-index: 1;position: relative;background-color: white;}#sk-container-id-1 div.sk-parallel-item:first-child::after {align-self: flex-end;width: 50%;}#sk-container-id-1 div.sk-parallel-item:last-child::after {align-self: flex-start;width: 50%;}#sk-container-id-1 div.sk-parallel-item:only-child::after {width: 0;}#sk-container-id-1 div.sk-dashed-wrapped {border: 1px dashed gray;margin: 0 0.4em 0.5em 0.4em;box-sizing: border-box;padding-bottom: 0.4em;background-color: white;}#sk-container-id-1 div.sk-label label {font-family: monospace;font-weight: bold;display: inline-block;line-height: 1.2em;}#sk-container-id-1 div.sk-label-container {text-align: center;}#sk-container-id-1 div.sk-container {/* jupyter's `normalize.less` sets `[hidden] { display: none; }` but bootstrap.min.css set `[hidden] { display: none !important; }` so we also need the `!important` here to be able to override the default hidden behavior on the sphinx rendered scikit-learn.org. See: https://github.com/scikit-learn/scikit-learn/issues/21755 */display: inline-block !important;position: relative;}#sk-container-id-1 div.sk-text-repr-fallback {display: none;}</style><div id=\"sk-container-id-1\" class=\"sk-top-container\"><div class=\"sk-text-repr-fallback\"><pre>LinearRegression()</pre><b>In a Jupyter environment, please rerun this cell to show the HTML representation or trust the notebook. <br />On GitHub, the HTML representation is unable to render, please try loading this page with nbviewer.org.</b></div><div class=\"sk-container\" hidden><div class=\"sk-item\"><div class=\"sk-estimator sk-toggleable\"><input class=\"sk-toggleable__control sk-hidden--visually\" id=\"sk-estimator-id-1\" type=\"checkbox\" checked><label for=\"sk-estimator-id-1\" class=\"sk-toggleable__label sk-toggleable__label-arrow\">LinearRegression</label><div class=\"sk-toggleable__content\"><pre>LinearRegression()</pre></div></div></div></div></div>"
            ]
          },
          "metadata": {},
          "execution_count": 19
        }
      ],
      "source": [
        "model.fit(X_train_poly, y_train)"
      ]
    },
    {
      "cell_type": "code",
      "execution_count": 20,
      "metadata": {
        "colab": {
          "base_uri": "https://localhost:8080/"
        },
        "id": "YgR9Xo9j5xZO",
        "outputId": "c7a8fdd6-34e0-426b-a345-12d6296a5fce"
      },
      "outputs": [
        {
          "output_type": "stream",
          "name": "stdout",
          "text": [
            "R-squared: 0.9339743419030814\n"
          ]
        }
      ],
      "source": [
        "y_pred = model.predict(X_train_poly)\n",
        "r2 = r2_score(y_train, y_pred)\n",
        "print(f'R-squared: {r2}')"
      ]
    },
    {
      "cell_type": "code",
      "execution_count": 21,
      "metadata": {
        "colab": {
          "base_uri": "https://localhost:8080/"
        },
        "id": "jFp4Rrf37hFe",
        "outputId": "de33f794-95ec-46e8-919f-16a0f7a3843d"
      },
      "outputs": [
        {
          "output_type": "stream",
          "name": "stdout",
          "text": [
            "R-squared: 0.9167056662416285\n"
          ]
        }
      ],
      "source": [
        "polynomial_features= PolynomialFeatures(degree=2)\n",
        "X_train_poly = polynomial_features.fit_transform(XTrainStd)\n",
        "model = LinearRegression()\n",
        "model.fit(X_train_poly, y_train)\n",
        "y_pred = model.predict(X_train_poly)\n",
        "r2 = r2_score(y_train, y_pred)\n",
        "print(f'R-squared: {r2}')"
      ]
    },
    {
      "cell_type": "code",
      "execution_count": 22,
      "metadata": {
        "colab": {
          "base_uri": "https://localhost:8080/"
        },
        "id": "wTopLAbl7k74",
        "outputId": "98dda917-0182-4f62-abef-7ebe27d3f19e"
      },
      "outputs": [
        {
          "output_type": "stream",
          "name": "stdout",
          "text": [
            "R-squared: 0.943472968871086\n"
          ]
        }
      ],
      "source": [
        "polynomial_features= PolynomialFeatures(degree=4)\n",
        "X_train_poly = polynomial_features.fit_transform(XTrainStd)\n",
        "model = LinearRegression()\n",
        "model.fit(X_train_poly, y_train)\n",
        "y_pred = model.predict(X_train_poly)\n",
        "r2 = r2_score(y_train, y_pred)\n",
        "print(f'R-squared: {r2}')"
      ]
    },
    {
      "cell_type": "code",
      "execution_count": 23,
      "metadata": {
        "colab": {
          "base_uri": "https://localhost:8080/"
        },
        "id": "smgHgU6o5x8p",
        "outputId": "17f49757-d54e-4d7f-9882-d8eddc995fff"
      },
      "outputs": [
        {
          "output_type": "stream",
          "name": "stdout",
          "text": [
            "R-squared: 0.9734894315191042\n"
          ]
        }
      ],
      "source": [
        "polynomial_features= PolynomialFeatures(degree=9)\n",
        "X_train_poly = polynomial_features.fit_transform(XTrainStd)\n",
        "model = LinearRegression()\n",
        "model.fit(X_train_poly, y_train)\n",
        "y_pred = model.predict(X_train_poly)\n",
        "r2 = r2_score(y_train, y_pred)\n",
        "print(f'R-squared: {r2}')"
      ]
    },
    {
      "cell_type": "code",
      "execution_count": 24,
      "metadata": {
        "colab": {
          "base_uri": "https://localhost:8080/"
        },
        "id": "c9IloqOt6SnW",
        "outputId": "2fc2b878-c7ba-487b-e49b-02bba36b8337"
      },
      "outputs": [
        {
          "output_type": "stream",
          "name": "stdout",
          "text": [
            "R-squared: 0.9811472900601104\n"
          ]
        }
      ],
      "source": [
        "polynomial_features= PolynomialFeatures(degree=10)\n",
        "X_train_poly = polynomial_features.fit_transform(XTrainStd)\n",
        "model = LinearRegression()\n",
        "model.fit(X_train_poly, y_train)\n",
        "y_pred = model.predict(X_train_poly)\n",
        "r2 = r2_score(y_train, y_pred)\n",
        "print(f'R-squared: {r2}')"
      ]
    },
    {
      "cell_type": "markdown",
      "metadata": {
        "id": "0ipfQC-o7B4a"
      },
      "source": [
        "donc après avoir entrainé le modèle de regression polynomiale on constate que l'augmentation de degré du polynome augmente la performance du modèle"
      ]
    },
    {
      "cell_type": "markdown",
      "metadata": {
        "id": "EjlBFdbA9UJs"
      },
      "source": [
        "\n",
        "\n",
        "# Support Vector Regression (SVR)"
      ]
    },
    {
      "cell_type": "code",
      "execution_count": 25,
      "metadata": {
        "id": "k0cXVS-69a6p"
      },
      "outputs": [],
      "source": [
        "model = SVR(kernel=\" ... \")"
      ]
    },
    {
      "cell_type": "code",
      "execution_count": null,
      "metadata": {
        "colab": {
          "base_uri": "https://localhost:8080/"
        },
        "id": "j1MepR5leXue",
        "outputId": "d0b50919-c877-4fe7-a14d-15730905a991"
      },
      "outputs": [
        {
          "metadata": {
            "tags": null
          },
          "name": "stdout",
          "output_type": "stream",
          "text": [
            "Kernel: linear, Degree: 2, Gamma: auto, C: 0.1, Coef0: 0.0\n",
            "Train RMSE: 867.1631504377574, Test RMSE: 853.7122075253527\n",
            "Kernel: linear, Degree: 2, Gamma: auto, C: 0.1, Coef0: 1.0\n",
            "Train RMSE: 867.1631504377574, Test RMSE: 853.7122075253527\n",
            "Kernel: linear, Degree: 2, Gamma: auto, C: 0.1, Coef0: 2.0\n",
            "Train RMSE: 867.1631504377574, Test RMSE: 853.7122075253527\n",
            "Kernel: linear, Degree: 2, Gamma: auto, C: 1, Coef0: 0.0\n",
            "Train RMSE: 871.5311339969916, Test RMSE: 863.8209227243033\n",
            "Kernel: linear, Degree: 2, Gamma: auto, C: 1, Coef0: 1.0\n",
            "Train RMSE: 871.5311339969916, Test RMSE: 863.8209227243033\n",
            "Kernel: linear, Degree: 2, Gamma: auto, C: 1, Coef0: 2.0\n",
            "Train RMSE: 871.5311339969916, Test RMSE: 863.8209227243033\n",
            "Kernel: linear, Degree: 2, Gamma: auto, C: 10, Coef0: 0.0\n",
            "Train RMSE: 916.8660582930252, Test RMSE: 908.4110404413016\n",
            "Kernel: linear, Degree: 2, Gamma: auto, C: 10, Coef0: 1.0\n",
            "Train RMSE: 916.8660582930252, Test RMSE: 908.4110404413016\n",
            "Kernel: linear, Degree: 2, Gamma: auto, C: 10, Coef0: 2.0\n",
            "Train RMSE: 916.8660582930252, Test RMSE: 908.4110404413016\n",
            "Kernel: linear, Degree: 2, Gamma: 0.1, C: 0.1, Coef0: 0.0\n",
            "Train RMSE: 867.1631504377574, Test RMSE: 853.7122075253527\n",
            "Kernel: linear, Degree: 2, Gamma: 0.1, C: 0.1, Coef0: 1.0\n",
            "Train RMSE: 867.1631504377574, Test RMSE: 853.7122075253527\n",
            "Kernel: linear, Degree: 2, Gamma: 0.1, C: 0.1, Coef0: 2.0\n",
            "Train RMSE: 867.1631504377574, Test RMSE: 853.7122075253527\n",
            "Kernel: linear, Degree: 2, Gamma: 0.1, C: 1, Coef0: 0.0\n",
            "Train RMSE: 871.5311339969916, Test RMSE: 863.8209227243033\n",
            "Kernel: linear, Degree: 2, Gamma: 0.1, C: 1, Coef0: 1.0\n",
            "Train RMSE: 871.5311339969916, Test RMSE: 863.8209227243033\n",
            "Kernel: linear, Degree: 2, Gamma: 0.1, C: 1, Coef0: 2.0\n",
            "Train RMSE: 871.5311339969916, Test RMSE: 863.8209227243033\n",
            "Kernel: linear, Degree: 2, Gamma: 0.1, C: 10, Coef0: 0.0\n",
            "Train RMSE: 916.8660582930252, Test RMSE: 908.4110404413016\n",
            "Kernel: linear, Degree: 2, Gamma: 0.1, C: 10, Coef0: 1.0\n",
            "Train RMSE: 916.8660582930252, Test RMSE: 908.4110404413016\n",
            "Kernel: linear, Degree: 2, Gamma: 0.1, C: 10, Coef0: 2.0\n",
            "Train RMSE: 916.8660582930252, Test RMSE: 908.4110404413016\n",
            "Kernel: linear, Degree: 2, Gamma: 1, C: 0.1, Coef0: 0.0\n",
            "Train RMSE: 867.1631504377574, Test RMSE: 853.7122075253527\n",
            "Kernel: linear, Degree: 2, Gamma: 1, C: 0.1, Coef0: 1.0\n",
            "Train RMSE: 867.1631504377574, Test RMSE: 853.7122075253527\n",
            "Kernel: linear, Degree: 2, Gamma: 1, C: 0.1, Coef0: 2.0\n",
            "Train RMSE: 867.1631504377574, Test RMSE: 853.7122075253527\n",
            "Kernel: linear, Degree: 2, Gamma: 1, C: 1, Coef0: 0.0\n",
            "Train RMSE: 871.5311339969916, Test RMSE: 863.8209227243033\n",
            "Kernel: linear, Degree: 2, Gamma: 1, C: 1, Coef0: 1.0\n",
            "Train RMSE: 871.5311339969916, Test RMSE: 863.8209227243033\n",
            "Kernel: linear, Degree: 2, Gamma: 1, C: 1, Coef0: 2.0\n",
            "Train RMSE: 871.5311339969916, Test RMSE: 863.8209227243033\n",
            "Kernel: linear, Degree: 2, Gamma: 1, C: 10, Coef0: 0.0\n",
            "Train RMSE: 916.8660582930252, Test RMSE: 908.4110404413016\n",
            "Kernel: linear, Degree: 2, Gamma: 1, C: 10, Coef0: 1.0\n",
            "Train RMSE: 916.8660582930252, Test RMSE: 908.4110404413016\n",
            "Kernel: linear, Degree: 2, Gamma: 1, C: 10, Coef0: 2.0\n",
            "Train RMSE: 916.8660582930252, Test RMSE: 908.4110404413016\n",
            "Kernel: linear, Degree: 3, Gamma: auto, C: 0.1, Coef0: 0.0\n",
            "Train RMSE: 867.1631504377574, Test RMSE: 853.7122075253527\n",
            "Kernel: linear, Degree: 3, Gamma: auto, C: 0.1, Coef0: 1.0\n",
            "Train RMSE: 867.1631504377574, Test RMSE: 853.7122075253527\n",
            "Kernel: linear, Degree: 3, Gamma: auto, C: 0.1, Coef0: 2.0\n",
            "Train RMSE: 867.1631504377574, Test RMSE: 853.7122075253527\n",
            "Kernel: linear, Degree: 3, Gamma: auto, C: 1, Coef0: 0.0\n",
            "Train RMSE: 871.5311339969916, Test RMSE: 863.8209227243033\n",
            "Kernel: linear, Degree: 3, Gamma: auto, C: 1, Coef0: 1.0\n",
            "Train RMSE: 871.5311339969916, Test RMSE: 863.8209227243033\n",
            "Kernel: linear, Degree: 3, Gamma: auto, C: 1, Coef0: 2.0\n",
            "Train RMSE: 871.5311339969916, Test RMSE: 863.8209227243033\n",
            "Kernel: linear, Degree: 3, Gamma: auto, C: 10, Coef0: 0.0\n",
            "Train RMSE: 916.8660582930252, Test RMSE: 908.4110404413016\n"
          ]
        }
      ],
      "source": [
        "kernels = ['linear', 'poly', 'rbf']\n",
        "\n",
        "for kernel in kernels:\n",
        "    for degree in [2, 3, 4]:\n",
        "        for gamma in ['auto', 0.1, 1]:\n",
        "            for C in [0.1, 1, 10]:\n",
        "                for coef0 in [0.0, 1.0, 2.0]:\n",
        "                    model = SVR(kernel=kernel, degree=degree, gamma=gamma, C=C, coef0=coef0)\n",
        "                    model.fit(x_train, y_train)\n",
        "                    y_train_pred = model.predict(x_train)\n",
        "                    y_test_pred = model.predict(x_test)\n",
        "                    train_rmse = mean_squared_error(y_train, y_train_pred, squared=False)\n",
        "                    test_rmse = mean_squared_error(y_test, y_test_pred, squared=False)\n",
        "\n",
        "                    print(f\"Kernel: {kernel}, Degree: {degree}, Gamma: {gamma}, C: {C}, Coef0: {coef0}\")\n",
        "                    print(f\"Train RMSE: {train_rmse}, Test RMSE: {test_rmse}\")"
      ]
    },
    {
      "cell_type": "code",
      "execution_count": 33,
      "metadata": {
        "id": "L39m5PhdeHBZ",
        "colab": {
          "base_uri": "https://localhost:8080/"
        },
        "outputId": "761228fc-9d70-4e45-d1dd-441a50e9fb90"
      },
      "outputs": [
        {
          "output_type": "stream",
          "name": "stdout",
          "text": [
            "Epoch 1/3\n",
            "1175/1175 [==============================] - 2s 1ms/step - loss: 12009563.0000 - mean_squared_error: 12009563.0000\n",
            "Epoch 2/3\n",
            "1175/1175 [==============================] - 1s 1ms/step - loss: 12009560.0000 - mean_squared_error: 12009560.0000\n",
            "Epoch 3/3\n",
            "1175/1175 [==============================] - 2s 1ms/step - loss: 12009555.0000 - mean_squared_error: 12009555.0000\n"
          ]
        }
      ],
      "source": [
        "#instanciation du modèle\n",
        "model = Sequential()\n",
        "#architecture\n",
        "model.add(Dense(10, input_dim=5, activation='relu'))\n",
        "model.add(Dense(1,activation='relu'))\n",
        "opt=keras.optimizers.Adam(learning_rate=0.1)\n",
        "#compilation - algorithme d'apprentissage\n",
        "model. compile(loss='mean_squared_error',optimizer=opt,metrics=['mean_squared_error'])\n",
        "#apprentissage\n",
        "history = model.fit(XTrainStd,y_train, epochs=3, batch_size=6)"
      ]
    },
    {
      "cell_type": "code",
      "source": [
        "y_pred = model.predict(XTestStd)\n",
        "r2 = r2_score(y_test, y_pred)\n",
        "print(f'R-squared: {r2}')"
      ],
      "metadata": {
        "colab": {
          "base_uri": "https://localhost:8080/"
        },
        "id": "CrSePz336B0x",
        "outputId": "4561eea7-a19f-4aef-ca79-516c5c38cd81"
      },
      "execution_count": 39,
      "outputs": [
        {
          "output_type": "stream",
          "name": "stdout",
          "text": [
            "74/74 [==============================] - 0s 1ms/step\n",
            "R-squared: -1.6229630676934574\n"
          ]
        }
      ]
    },
    {
      "cell_type": "code",
      "source": [
        "model = Sequential()\n",
        "#architecture\n",
        "model.add(Dense(10, input_dim=5, activation='relu'))\n",
        "model.add(Dense(1,activation='relu'))\n",
        "opt=keras.optimizers.Adam(learning_rate=0.1)\n",
        "#compilation - algorithme d'apprentissage\n",
        "model. compile(loss='mean_squared_error',optimizer=opt,metrics=['mean_squared_error'])\n",
        "#apprentissage\n",
        "history = model.fit(XTrainStd,y_train, epochs=100, batch_size=6)"
      ],
      "metadata": {
        "colab": {
          "base_uri": "https://localhost:8080/"
        },
        "id": "P6YlFb2w7wok",
        "outputId": "ae109ab9-a12d-44c7-ebe9-1d3e7a76586b"
      },
      "execution_count": 40,
      "outputs": [
        {
          "output_type": "stream",
          "name": "stdout",
          "text": [
            "Epoch 1/100\n",
            "1175/1175 [==============================] - 2s 1ms/step - loss: 1970787.3750 - mean_squared_error: 1970787.3750\n",
            "Epoch 2/100\n",
            "1175/1175 [==============================] - 1s 1ms/step - loss: 744446.1875 - mean_squared_error: 744446.1875\n",
            "Epoch 3/100\n",
            "1175/1175 [==============================] - 2s 1ms/step - loss: 555946.5625 - mean_squared_error: 555946.5625\n",
            "Epoch 4/100\n",
            "1175/1175 [==============================] - 2s 1ms/step - loss: 489410.1562 - mean_squared_error: 489410.1562\n",
            "Epoch 5/100\n",
            "1175/1175 [==============================] - 1s 1ms/step - loss: 461477.7812 - mean_squared_error: 461477.7812\n",
            "Epoch 6/100\n",
            "1175/1175 [==============================] - 1s 1ms/step - loss: 454249.8438 - mean_squared_error: 454249.8438\n",
            "Epoch 7/100\n",
            "1175/1175 [==============================] - 1s 1ms/step - loss: 449776.2188 - mean_squared_error: 449776.2188\n",
            "Epoch 8/100\n",
            "1175/1175 [==============================] - 1s 1ms/step - loss: 449101.7812 - mean_squared_error: 449101.7500\n",
            "Epoch 9/100\n",
            "1175/1175 [==============================] - 1s 1ms/step - loss: 449382.2812 - mean_squared_error: 449382.2812\n",
            "Epoch 10/100\n",
            "1175/1175 [==============================] - 1s 1ms/step - loss: 448860.2500 - mean_squared_error: 448860.2500\n",
            "Epoch 11/100\n",
            "1175/1175 [==============================] - 1s 1ms/step - loss: 447185.5625 - mean_squared_error: 447185.5625\n",
            "Epoch 12/100\n",
            "1175/1175 [==============================] - 2s 1ms/step - loss: 447972.8750 - mean_squared_error: 447972.8750\n",
            "Epoch 13/100\n",
            "1175/1175 [==============================] - 1s 1ms/step - loss: 448209.0625 - mean_squared_error: 448209.0625\n",
            "Epoch 14/100\n",
            "1175/1175 [==============================] - 1s 1ms/step - loss: 448137.4062 - mean_squared_error: 448137.4062\n",
            "Epoch 15/100\n",
            "1175/1175 [==============================] - 1s 1ms/step - loss: 446918.1250 - mean_squared_error: 446918.1875\n",
            "Epoch 16/100\n",
            "1175/1175 [==============================] - 1s 1ms/step - loss: 445443.2188 - mean_squared_error: 445443.2188\n",
            "Epoch 17/100\n",
            "1175/1175 [==============================] - 1s 1ms/step - loss: 447233.3125 - mean_squared_error: 447233.3125\n",
            "Epoch 18/100\n",
            "1175/1175 [==============================] - 1s 1ms/step - loss: 449113.5000 - mean_squared_error: 449113.5000\n",
            "Epoch 19/100\n",
            "1175/1175 [==============================] - 1s 1ms/step - loss: 446351.0312 - mean_squared_error: 446351.0312\n",
            "Epoch 20/100\n",
            "1175/1175 [==============================] - 2s 1ms/step - loss: 448306.0312 - mean_squared_error: 448306.0312\n",
            "Epoch 21/100\n",
            "1175/1175 [==============================] - 1s 1ms/step - loss: 448340.1562 - mean_squared_error: 448340.1562\n",
            "Epoch 22/100\n",
            "1175/1175 [==============================] - 1s 1ms/step - loss: 445951.3438 - mean_squared_error: 445951.3438\n",
            "Epoch 23/100\n",
            "1175/1175 [==============================] - 1s 1ms/step - loss: 447898.7500 - mean_squared_error: 447898.7812\n",
            "Epoch 24/100\n",
            "1175/1175 [==============================] - 1s 1ms/step - loss: 447953.2812 - mean_squared_error: 447953.2812\n",
            "Epoch 25/100\n",
            "1175/1175 [==============================] - 1s 1ms/step - loss: 447504.0312 - mean_squared_error: 447504.0312\n",
            "Epoch 26/100\n",
            "1175/1175 [==============================] - 1s 1ms/step - loss: 447387.0938 - mean_squared_error: 447387.0938\n",
            "Epoch 27/100\n",
            "1175/1175 [==============================] - 1s 1ms/step - loss: 446982.9688 - mean_squared_error: 446982.9688\n",
            "Epoch 28/100\n",
            "1175/1175 [==============================] - 1s 1ms/step - loss: 448021.9375 - mean_squared_error: 448021.9375\n",
            "Epoch 29/100\n",
            "1175/1175 [==============================] - 2s 1ms/step - loss: 448693.7812 - mean_squared_error: 448693.7812\n",
            "Epoch 30/100\n",
            "1175/1175 [==============================] - 1s 1ms/step - loss: 446979.0625 - mean_squared_error: 446979.0625\n",
            "Epoch 31/100\n",
            "1175/1175 [==============================] - 1s 1ms/step - loss: 449509.6562 - mean_squared_error: 449509.6562\n",
            "Epoch 32/100\n",
            "1175/1175 [==============================] - 1s 1ms/step - loss: 448089.3750 - mean_squared_error: 448089.3750\n",
            "Epoch 33/100\n",
            "1175/1175 [==============================] - 1s 1ms/step - loss: 448934.5938 - mean_squared_error: 448934.5938\n",
            "Epoch 34/100\n",
            "1175/1175 [==============================] - 1s 1ms/step - loss: 445418.0312 - mean_squared_error: 445418.0312\n",
            "Epoch 35/100\n",
            "1175/1175 [==============================] - 1s 1ms/step - loss: 448376.3750 - mean_squared_error: 448376.3750\n",
            "Epoch 36/100\n",
            "1175/1175 [==============================] - 1s 1ms/step - loss: 445834.0938 - mean_squared_error: 445834.0938\n",
            "Epoch 37/100\n",
            "1175/1175 [==============================] - 1s 1ms/step - loss: 447975.4375 - mean_squared_error: 447975.4375\n",
            "Epoch 38/100\n",
            "1175/1175 [==============================] - 2s 1ms/step - loss: 447353.1250 - mean_squared_error: 447353.1250\n",
            "Epoch 39/100\n",
            "1175/1175 [==============================] - 1s 1ms/step - loss: 445360.7500 - mean_squared_error: 445360.7500\n",
            "Epoch 40/100\n",
            "1175/1175 [==============================] - 1s 1ms/step - loss: 447663.0000 - mean_squared_error: 447663.0000\n",
            "Epoch 41/100\n",
            "1175/1175 [==============================] - 1s 1ms/step - loss: 444003.5625 - mean_squared_error: 444003.5625\n",
            "Epoch 42/100\n",
            "1175/1175 [==============================] - 1s 1ms/step - loss: 447058.4062 - mean_squared_error: 447058.4062\n",
            "Epoch 43/100\n",
            "1175/1175 [==============================] - 1s 1ms/step - loss: 444885.7188 - mean_squared_error: 444885.7188\n",
            "Epoch 44/100\n",
            "1175/1175 [==============================] - 1s 1ms/step - loss: 445633.5000 - mean_squared_error: 445633.5000\n",
            "Epoch 45/100\n",
            "1175/1175 [==============================] - 1s 1ms/step - loss: 447071.5312 - mean_squared_error: 447071.5312\n",
            "Epoch 46/100\n",
            "1175/1175 [==============================] - 2s 1ms/step - loss: 447472.7188 - mean_squared_error: 447472.7188\n",
            "Epoch 47/100\n",
            "1175/1175 [==============================] - 2s 1ms/step - loss: 444578.6875 - mean_squared_error: 444578.6875\n",
            "Epoch 48/100\n",
            "1175/1175 [==============================] - 1s 1ms/step - loss: 446899.8750 - mean_squared_error: 446899.8750\n",
            "Epoch 49/100\n",
            "1175/1175 [==============================] - 1s 1ms/step - loss: 445150.1875 - mean_squared_error: 445150.1875\n",
            "Epoch 50/100\n",
            "1175/1175 [==============================] - 1s 1ms/step - loss: 447567.1250 - mean_squared_error: 447567.1250\n",
            "Epoch 51/100\n",
            "1175/1175 [==============================] - 1s 1ms/step - loss: 448204.9062 - mean_squared_error: 448204.9062\n",
            "Epoch 52/100\n",
            "1175/1175 [==============================] - 1s 1ms/step - loss: 446805.8125 - mean_squared_error: 446805.8125\n",
            "Epoch 53/100\n",
            "1175/1175 [==============================] - 1s 1ms/step - loss: 445256.5625 - mean_squared_error: 445256.5625\n",
            "Epoch 54/100\n",
            "1175/1175 [==============================] - 1s 1ms/step - loss: 447462.9062 - mean_squared_error: 447462.9375\n",
            "Epoch 55/100\n",
            "1175/1175 [==============================] - 2s 1ms/step - loss: 446081.0625 - mean_squared_error: 446081.0625\n",
            "Epoch 56/100\n",
            "1175/1175 [==============================] - 1s 1ms/step - loss: 445820.4375 - mean_squared_error: 445820.4375\n",
            "Epoch 57/100\n",
            "1175/1175 [==============================] - 1s 1ms/step - loss: 449425.1250 - mean_squared_error: 449425.1250\n",
            "Epoch 58/100\n",
            "1175/1175 [==============================] - 1s 1ms/step - loss: 447088.5625 - mean_squared_error: 447088.5625\n",
            "Epoch 59/100\n",
            "1175/1175 [==============================] - 1s 1ms/step - loss: 447262.5312 - mean_squared_error: 447262.5312\n",
            "Epoch 60/100\n",
            "1175/1175 [==============================] - 1s 1ms/step - loss: 445178.6875 - mean_squared_error: 445178.6875\n",
            "Epoch 61/100\n",
            "1175/1175 [==============================] - 1s 1ms/step - loss: 445358.5312 - mean_squared_error: 445358.5312\n",
            "Epoch 62/100\n",
            "1175/1175 [==============================] - 1s 1ms/step - loss: 445443.7188 - mean_squared_error: 445443.6250\n",
            "Epoch 63/100\n",
            "1175/1175 [==============================] - 2s 1ms/step - loss: 445060.9688 - mean_squared_error: 445060.9688\n",
            "Epoch 64/100\n",
            "1175/1175 [==============================] - 2s 1ms/step - loss: 445446.0000 - mean_squared_error: 445446.0000\n",
            "Epoch 65/100\n",
            "1175/1175 [==============================] - 1s 1ms/step - loss: 444778.7188 - mean_squared_error: 444778.7188\n",
            "Epoch 66/100\n",
            "1175/1175 [==============================] - 1s 1ms/step - loss: 444998.7188 - mean_squared_error: 444998.7188\n",
            "Epoch 67/100\n",
            "1175/1175 [==============================] - 1s 1ms/step - loss: 446335.7812 - mean_squared_error: 446335.7812\n",
            "Epoch 68/100\n",
            "1175/1175 [==============================] - 1s 1ms/step - loss: 446570.3125 - mean_squared_error: 446570.3125\n",
            "Epoch 69/100\n",
            "1175/1175 [==============================] - 1s 1ms/step - loss: 447837.0625 - mean_squared_error: 447836.9688\n",
            "Epoch 70/100\n",
            "1175/1175 [==============================] - 1s 1ms/step - loss: 448464.6875 - mean_squared_error: 448464.6875\n",
            "Epoch 71/100\n",
            "1175/1175 [==============================] - 1s 1ms/step - loss: 444497.0625 - mean_squared_error: 444497.0625\n",
            "Epoch 72/100\n",
            "1175/1175 [==============================] - 2s 1ms/step - loss: 445695.1562 - mean_squared_error: 445695.1562\n",
            "Epoch 73/100\n",
            "1175/1175 [==============================] - 1s 1ms/step - loss: 444564.9375 - mean_squared_error: 444564.9375\n",
            "Epoch 74/100\n",
            "1175/1175 [==============================] - 1s 1ms/step - loss: 445045.9375 - mean_squared_error: 445045.9375\n",
            "Epoch 75/100\n",
            "1175/1175 [==============================] - 1s 1ms/step - loss: 446073.1562 - mean_squared_error: 446073.1562\n",
            "Epoch 76/100\n",
            "1175/1175 [==============================] - 1s 1ms/step - loss: 447734.0938 - mean_squared_error: 447734.0938\n",
            "Epoch 77/100\n",
            "1175/1175 [==============================] - 1s 1ms/step - loss: 446092.3750 - mean_squared_error: 446092.3750\n",
            "Epoch 78/100\n",
            "1175/1175 [==============================] - 1s 1ms/step - loss: 445765.2812 - mean_squared_error: 445765.2812\n",
            "Epoch 79/100\n",
            "1175/1175 [==============================] - 1s 1ms/step - loss: 446009.5000 - mean_squared_error: 446009.5000\n",
            "Epoch 80/100\n",
            "1175/1175 [==============================] - 2s 1ms/step - loss: 444999.3125 - mean_squared_error: 444999.3125\n",
            "Epoch 81/100\n",
            "1175/1175 [==============================] - 2s 1ms/step - loss: 445630.7500 - mean_squared_error: 445630.7500\n",
            "Epoch 82/100\n",
            "1175/1175 [==============================] - 1s 1ms/step - loss: 445985.5938 - mean_squared_error: 445985.5938\n",
            "Epoch 83/100\n",
            "1175/1175 [==============================] - 1s 1ms/step - loss: 445166.3438 - mean_squared_error: 445166.3438\n",
            "Epoch 84/100\n",
            "1175/1175 [==============================] - 1s 1ms/step - loss: 443623.5625 - mean_squared_error: 443623.5625\n",
            "Epoch 85/100\n",
            "1175/1175 [==============================] - 1s 1ms/step - loss: 445058.6250 - mean_squared_error: 445058.6250\n",
            "Epoch 86/100\n",
            "1175/1175 [==============================] - 1s 1ms/step - loss: 444565.0625 - mean_squared_error: 444565.0625\n",
            "Epoch 87/100\n",
            "1175/1175 [==============================] - 1s 1ms/step - loss: 445368.0938 - mean_squared_error: 445368.0938\n",
            "Epoch 88/100\n",
            "1175/1175 [==============================] - 1s 1ms/step - loss: 444118.6250 - mean_squared_error: 444118.6250\n",
            "Epoch 89/100\n",
            "1175/1175 [==============================] - 2s 1ms/step - loss: 445874.5312 - mean_squared_error: 445874.5312\n",
            "Epoch 90/100\n",
            "1175/1175 [==============================] - 1s 1ms/step - loss: 446050.0625 - mean_squared_error: 446050.0625\n",
            "Epoch 91/100\n",
            "1175/1175 [==============================] - 1s 1ms/step - loss: 444886.7188 - mean_squared_error: 444886.7188\n",
            "Epoch 92/100\n",
            "1175/1175 [==============================] - 1s 1ms/step - loss: 446624.0312 - mean_squared_error: 446624.0312\n",
            "Epoch 93/100\n",
            "1175/1175 [==============================] - 1s 1ms/step - loss: 444752.7812 - mean_squared_error: 444752.7812\n",
            "Epoch 94/100\n",
            "1175/1175 [==============================] - 1s 1ms/step - loss: 444042.2188 - mean_squared_error: 444042.2188\n",
            "Epoch 95/100\n",
            "1175/1175 [==============================] - 1s 1ms/step - loss: 444763.3750 - mean_squared_error: 444763.4062\n",
            "Epoch 96/100\n",
            "1175/1175 [==============================] - 1s 1ms/step - loss: 445979.8438 - mean_squared_error: 445979.8438\n",
            "Epoch 97/100\n",
            "1175/1175 [==============================] - 2s 1ms/step - loss: 443576.3125 - mean_squared_error: 443576.3125\n",
            "Epoch 98/100\n",
            "1175/1175 [==============================] - 2s 1ms/step - loss: 446297.5625 - mean_squared_error: 446297.5312\n",
            "Epoch 99/100\n",
            "1175/1175 [==============================] - 1s 1ms/step - loss: 445293.4062 - mean_squared_error: 445293.4062\n",
            "Epoch 100/100\n",
            "1175/1175 [==============================] - 1s 1ms/step - loss: 446654.7188 - mean_squared_error: 446654.7188\n"
          ]
        }
      ]
    },
    {
      "cell_type": "code",
      "source": [
        "y_pred = model.predict(XTestStd)\n",
        "r2 = r2_score(y_test, y_pred)\n",
        "print(f'R-squared: {r2}')"
      ],
      "metadata": {
        "colab": {
          "base_uri": "https://localhost:8080/"
        },
        "id": "03LKVPaO8zXz",
        "outputId": "35213341-1534-42cb-f796-adcea47589e3"
      },
      "execution_count": 41,
      "outputs": [
        {
          "output_type": "stream",
          "name": "stdout",
          "text": [
            "74/74 [==============================] - 0s 939us/step\n",
            "R-squared: 0.9038424155957291\n"
          ]
        }
      ]
    },
    {
      "cell_type": "markdown",
      "source": [
        "pour cent epochs au lieu de 3 le score a augmenté jusqu'à 90\n",
        "donc à l'aide de gridsearch utilisé dans le tp precedent on peut trouver les meilleurs hyper pour une meilleur performance de notre modèle"
      ],
      "metadata": {
        "id": "Y4vduhSZ86oC"
      }
    },
    {
      "cell_type": "code",
      "execution_count": 28,
      "metadata": {
        "id": "NM9VA9CqjCZm"
      },
      "outputs": [],
      "source": [
        "regressors = [\n",
        "KNeighborsRegressor(),\n",
        "ExtraTreesRegressor(),\n",
        "RandomForestRegressor(),\n",
        "DecisionTreeRegressor(),\n",
        "LinearRegression()\n",
        "]"
      ]
    },
    {
      "cell_type": "code",
      "execution_count": 32,
      "metadata": {
        "id": "hoG07A4VjYez",
        "colab": {
          "base_uri": "https://localhost:8080/"
        },
        "outputId": "582071cf-8c00-4d86-f191-f2a5ca57a522"
      },
      "outputs": [
        {
          "output_type": "stream",
          "name": "stdout",
          "text": [
            "KNeighborsRegressor()\n",
            "\tTraining time: 0.010s\n",
            "\tPrediction time: 0.014s\n",
            "\tExplained variance: 0.9441444528083116\n",
            "\tMean absolute error: 303.5787494254013\n",
            "\tR2 score: 0.9439666738581333\n",
            "\n",
            "ExtraTreesRegressor()\n",
            "\tTraining time: 0.841s\n",
            "\tPrediction time: 0.055s\n",
            "\tExplained variance: 0.9514292371432682\n",
            "\tMean absolute error: 278.6666353768908\n",
            "\tR2 score: 0.9512805060651864\n",
            "\n",
            "RandomForestRegressor()\n",
            "\tTraining time: 3.104s\n",
            "\tPrediction time: 0.187s\n",
            "\tExplained variance: 0.9490992556403228\n",
            "\tMean absolute error: 287.04860886608543\n",
            "\tR2 score: 0.9489267723615441\n",
            "\n",
            "DecisionTreeRegressor()\n",
            "\tTraining time: 0.124s\n",
            "\tPrediction time: 0.001s\n",
            "\tExplained variance: 0.9019676953422131\n",
            "\tMean absolute error: 392.4847802055835\n",
            "\tR2 score: 0.9017669301055874\n",
            "\n",
            "LinearRegression()\n",
            "\tTraining time: 0.003s\n",
            "\tPrediction time: 0.004s\n",
            "\tExplained variance: 0.8403962924926884\n",
            "\tMean absolute error: 692.6894459701934\n",
            "\tR2 score: 0.84002758345303\n",
            "\n"
          ]
        }
      ],
      "source": [
        "head=5\n",
        "for model in regressors[:head]:\n",
        "  start = time()\n",
        "  model.fit(XTrainStd, y_train)\n",
        "  train_time = time() - start\n",
        "  start = time()\n",
        "  y_pred = model.predict(XTestStd)\n",
        "  predict_time = time()-start\n",
        "  print(model)\n",
        "  print(\"\\tTraining time: %0.3fs\" % train_time)\n",
        "  print(\"\\tPrediction time: %0.3fs\" % predict_time)\n",
        "  print(\"\\tExplained variance:\", explained_variance_score(y_test, y_pred))\n",
        "  print(\"\\tMean absolute error:\", mean_absolute_error(y_test, y_pred))\n",
        "  print(\"\\tR2 score:\", r2_score(y_test, y_pred))\n",
        "  print()"
      ]
    }
  ],
  "metadata": {
    "colab": {
      "provenance": [],
      "authorship_tag": "ABX9TyNbM9QE4WKTkU9D8SVY9hoN",
      "include_colab_link": true
    },
    "kernelspec": {
      "display_name": "Python 3",
      "name": "python3"
    },
    "language_info": {
      "name": "python"
    }
  },
  "nbformat": 4,
  "nbformat_minor": 0
}